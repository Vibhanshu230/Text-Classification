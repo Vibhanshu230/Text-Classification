{
 "cells": [
  {
   "cell_type": "code",
   "execution_count": 1,
   "id": "126d8733",
   "metadata": {},
   "outputs": [],
   "source": [
    "from sklearn.datasets import fetch_20newsgroups\n",
    "import string\n",
    "from nltk.corpus import stopwords\n",
    "from nltk.tokenize import word_tokenize\n",
    "from sklearn.model_selection import train_test_split\n",
    "import numpy as np\n",
    "from sklearn.naive_bayes import MultinomialNB"
   ]
  },
  {
   "cell_type": "code",
   "execution_count": 27,
   "id": "dded289e",
   "metadata": {},
   "outputs": [
    {
     "name": "stderr",
     "output_type": "stream",
     "text": [
      "[nltk_data] Downloading package stopwords to\n",
      "[nltk_data]     C:\\Users\\manis\\AppData\\Roaming\\nltk_data...\n",
      "[nltk_data]   Package stopwords is already up-to-date!\n",
      "[nltk_data] Downloading package punkt to\n",
      "[nltk_data]     C:\\Users\\manis\\AppData\\Roaming\\nltk_data...\n",
      "[nltk_data]   Package punkt is already up-to-date!\n"
     ]
    },
    {
     "data": {
      "text/plain": [
       "True"
      ]
     },
     "execution_count": 27,
     "metadata": {},
     "output_type": "execute_result"
    }
   ],
   "source": [
    "import nltk \n",
    "nltk.download('stopwords')\n",
    "nltk.download('punkt')"
   ]
  },
  {
   "cell_type": "code",
   "execution_count": 3,
   "id": "ba3c5fa4",
   "metadata": {},
   "outputs": [
    {
     "data": {
      "text/plain": [
       "dict_keys(['data', 'filenames', 'target_names', 'target', 'DESCR'])"
      ]
     },
     "execution_count": 3,
     "metadata": {},
     "output_type": "execute_result"
    }
   ],
   "source": [
    "# importing data from sklearn \n",
    "newsgroups=fetch_20newsgroups()\n",
    "# stopwords:words not to be included in vocabulary\n",
    "stops=set(stopwords.words('english'))\n",
    "# removing punctuations\n",
    "punctuations=list(string.punctuation)\n",
    "# adding punctuations to stops itself\n",
    "stops.update(punctuations)\n",
    "additionalstops=np.loadtxt('stopwords.txt',dtype=str,delimiter=\" \")\n",
    "stops.update(additionalstops)\n",
    "newsgroups.keys()\n"
   ]
  },
  {
   "cell_type": "code",
   "execution_count": 4,
   "id": "d8ebeee9",
   "metadata": {},
   "outputs": [
    {
     "data": {
      "text/plain": [
       "824"
      ]
     },
     "execution_count": 4,
     "metadata": {},
     "output_type": "execute_result"
    }
   ],
   "source": [
    "len(stops)"
   ]
  },
  {
   "cell_type": "code",
   "execution_count": 5,
   "id": "f631e6f5",
   "metadata": {},
   "outputs": [
    {
     "data": {
      "text/plain": [
       "11314"
      ]
     },
     "execution_count": 5,
     "metadata": {},
     "output_type": "execute_result"
    }
   ],
   "source": [
    "# no of documents\n",
    "len(newsgroups.data)"
   ]
  },
  {
   "cell_type": "code",
   "execution_count": 6,
   "id": "da1f2299",
   "metadata": {},
   "outputs": [],
   "source": [
    "# all_document:contains all X data\n",
    "all_documents=newsgroups.data\n",
    "# all_categories:contains all Y data\n",
    "all_categories=newsgroups.target\n",
    "# converting all_document to list of list of words(tokenized data for each element)\n",
    "all_documents_modified=[word_tokenize(doc) for doc in all_documents]"
   ]
  },
  {
   "cell_type": "code",
   "execution_count": 7,
   "id": "feacefee",
   "metadata": {},
   "outputs": [],
   "source": [
    "#splitting these documents in train and test data.\n",
    "x_train, x_test, y_train, y_test=train_test_split(all_documents_modified, all_categories, random_state=1)"
   ]
  },
  {
   "cell_type": "code",
   "execution_count": 8,
   "id": "60c1ec86",
   "metadata": {},
   "outputs": [],
   "source": [
    "# variable to store all words from all tokenized documents\n",
    "all_words=[]\n",
    "for doc in x_train:\n",
    "    for word in doc:\n",
    "        if(word.lower() not in stops) and len(word)!=1 and len(word)!=2 and word!=\"n't\" and word[0]!=\".\":\n",
    "            all_words.append(word)\n"
   ]
  },
  {
   "cell_type": "code",
   "execution_count": 9,
   "id": "d6a19aa4",
   "metadata": {},
   "outputs": [
    {
     "data": {
      "text/plain": [
       "1308617"
      ]
     },
     "execution_count": 9,
     "metadata": {},
     "output_type": "execute_result"
    }
   ],
   "source": [
    "len(all_words)"
   ]
  },
  {
   "cell_type": "code",
   "execution_count": 10,
   "id": "b7b0e971",
   "metadata": {},
   "outputs": [],
   "source": [
    "def Dict_freq(all_words):\n",
    "    dic=dict()\n",
    "#     iterating through all_words and incrementing frequency if word already present in dic else initialising frequency as 1\n",
    "    for word in all_words:\n",
    "        if word in dic.keys():\n",
    "            dic[word]+=1\n",
    "        else:\n",
    "            dic[word]=1\n",
    "    return dic\n",
    "dic=Dict_freq(all_words)"
   ]
  },
  {
   "cell_type": "code",
   "execution_count": 11,
   "id": "bcc09ba0",
   "metadata": {},
   "outputs": [],
   "source": [
    "# converting to numpy array to sort in descending order to get top k features\n",
    "freq=np.array([i for i in dic.values()])\n",
    "words=np.array([i for i in dic.keys()])\n",
    "words=words[np.argsort(freq)][::-1]\n",
    "freq=np.sort(freq)[::-1]"
   ]
  },
  {
   "cell_type": "code",
   "execution_count": 12,
   "id": "912565b8",
   "metadata": {},
   "outputs": [
    {
     "data": {
      "image/png": "[encoded data removed]",
      "text/plain": [
       "<Figure size 2000x700 with 1 Axes>"
      ]
     },
     "metadata": {},
     "output_type": "display_data"
    }
   ],
   "source": [
    "# visualising frequncy trend to analyse our data\n",
    "import matplotlib.pyplot as plt\n",
    "lower_limit=0\n",
    "upper_limit=3000\n",
    "difference_between_each_xtick=50\n",
    "plt.figure(figsize=(20,7))\n",
    "plt.plot(np.arange(len(freq))[lower_limit:upper_limit], freq[lower_limit:upper_limit])\n",
    "#labelling\n",
    "plt.xlabel('Words(\"nth word\")--->')\n",
    "plt.ylabel(\"Frequency--->\")\n",
    "#adjusting the xticks\n",
    "plt.xticks(np.arange(lower_limit, upper_limit, 50), rotation=45)\n",
    "plt.grid()\n",
    "plt.show()"
   ]
  },
  {
   "cell_type": "code",
   "execution_count": 13,
   "id": "bb1447a9",
   "metadata": {},
   "outputs": [
    {
     "data": {
      "text/plain": [
       "(1888, 17)"
      ]
     },
     "execution_count": 13,
     "metadata": {},
     "output_type": "execute_result"
    }
   ],
   "source": [
    "features=words[20:100000]\n",
    "# restricting our freq variable to limit words which are most frequent in all document\n",
    "# as they may be present in all documents which will skew our data\n",
    "# limiting data between freq[20] and freq[9999]\n",
    "freq[20], freq[10000]"
   ]
  },
  {
   "cell_type": "code",
   "execution_count": 14,
   "id": "2519e67c",
   "metadata": {},
   "outputs": [],
   "source": [
    "# creating a 2D array with documents as rows and columns are features,the particular cell contains the frequency of that particular document and feature.\n",
    "# the params taken by function are x_train or x_test and the list of all features\n",
    "def data_initialisor(x_data,features):\n",
    "    modified_data=np.zeros((len(x_data), len(features)))\n",
    "    max_count=len(x_data)\n",
    "    for i in range(len(x_data)):\n",
    "        current_doc=x_data[i]\n",
    "        d=dict()\n",
    "        for word in current_doc:\n",
    "            if word in d.keys():\n",
    "                d[word]+=1\n",
    "            else:\n",
    "                d[word]=1\n",
    "        for j in range (len(features)):\n",
    "            if features[j] in d.keys():\n",
    "                modified_data[i][j]=d[features[j]]\n",
    "            else:\n",
    "                continue\n",
    "    return modified_data"
   ]
  },
  {
   "cell_type": "code",
   "execution_count": 24,
   "id": "6db47141",
   "metadata": {},
   "outputs": [],
   "source": [
    "#training and testing data has to be modified saparately because we cant use the testing data for training purpose\n",
    "#as both the Training and testing data must be having their own separate vocabularies."
   ]
  },
  {
   "cell_type": "code",
   "execution_count": 15,
   "id": "7408a3af",
   "metadata": {},
   "outputs": [],
   "source": [
    "x_train_modified=data_initialisor(x_train,features)"
   ]
  },
  {
   "cell_type": "code",
   "execution_count": 18,
   "id": "b4919a43",
   "metadata": {},
   "outputs": [],
   "source": [
    "x_test_modified=data_initialisor(x_test,features)"
   ]
  },
  {
   "cell_type": "markdown",
   "id": "eba59b71",
   "metadata": {},
   "source": [
    "## Using inbuilt Multinomial Naive Bayes classifier"
   ]
  },
  {
   "cell_type": "code",
   "execution_count": 19,
   "id": "9681acde",
   "metadata": {},
   "outputs": [
    {
     "data": {
      "text/plain": [
       "0.8868858253799929"
      ]
     },
     "execution_count": 19,
     "metadata": {},
     "output_type": "execute_result"
    }
   ],
   "source": [
    "clf=MultinomialNB()\n",
    "clf.fit(x_train_modified,y_train)\n",
    "clf.score(x_test_modified,y_test)"
   ]
  },
  {
   "cell_type": "markdown",
   "id": "acab32d7",
   "metadata": {},
   "source": [
    "## Engineering self Naive Bayes Classifier"
   ]
  },
  {
   "cell_type": "code",
   "execution_count": 20,
   "id": "0ebd56b0",
   "metadata": {},
   "outputs": [],
   "source": [
    "def fit(x_train,y_train):\n",
    "    count=dict()\n",
    "    for i in range(20):\n",
    "        needed_docs=x_train[y_train==i]\n",
    "        count[i]=dict()\n",
    "#         to maintain total number of words in class i\n",
    "        count[i]['total']=0\n",
    "        for j in range(len(features)):\n",
    "#             no. of time jth feature is occuring corresponding to class i\n",
    "            count[i][features[j]]=needed_docs[:,j].sum()\n",
    "#   \n",
    "            count[i]['total']+=count[i][features[j]]\n",
    "    return count\n",
    "# The probablity function takes the dictionary,current data point and current class\n",
    "def probablity(dictionary,x,current_class):\n",
    "    prob_for_each_word=[]\n",
    "    for i in range(len(x)):\n",
    "#         omitting features whose values corresponding to current doc is 0,i.e not present\n",
    "        if x[i]!=0:\n",
    "#         denotes number of occurences of ith feature in current class\n",
    "            num=dictionary[current_class][features[i]]\n",
    "#             total words in current class\n",
    "            den=dictionary[current_class]['total']\n",
    "#     taking logarithmic probablity to avoid multiplication of small probablitites amounting to 0, i.e laplace correction \n",
    "            prob=np.log((num+1)/(den+len(x)))\n",
    "            prob_for_each_word.append(prob)\n",
    "    return sum(prob_for_each_word)\n",
    "def predictSinglePoint(dictionary,x):\n",
    "    classes=dictionary.keys()\n",
    "    best_p=-1000\n",
    "    best_class=-1\n",
    "    #initiated best_p and best_class variables with negative values because we want to consider maximum valued probabilities at\n",
    "    #the end. In the first run itself they will be replaced by positive values. \"best_p\" variable denotes the best probability\n",
    "    #uptill now. and as the name suggests, best_class denotes the best possible class uptill now.\n",
    "    first_run=True\n",
    "    for current_class in classes:\n",
    "#         probablity of current class\n",
    "        p_current_class=probablity(dictionary,x,current_class)\n",
    "        if(first_run or p_current_class>best_p):\n",
    "            best_p=p_current_class\n",
    "            best_class=current_class\n",
    "        first_run=False\n",
    "    return best_class\n",
    "def predict(x_test,dictionary):\n",
    "    y_pred=[]\n",
    "    #y_pred maintains all the predicted classes for provided testing data.\n",
    "    for doc in x_test:\n",
    "        y_pred.append(predictSinglePoint(dictionary,doc))\n",
    "    return y_pred\n",
    "    \n",
    "    \n",
    "            \n"
   ]
  },
  {
   "cell_type": "code",
   "execution_count": 21,
   "id": "87257dfc",
   "metadata": {},
   "outputs": [],
   "source": [
    "# calling the fit function for the data\n",
    "dictionary=fit(x_train_modified, y_train)"
   ]
  },
  {
   "cell_type": "code",
   "execution_count": 22,
   "id": "6d7b72a0",
   "metadata": {},
   "outputs": [],
   "source": [
    "# getting predicted y values\n",
    "y_pred=predict(x_test_modified, dictionary)"
   ]
  },
  {
   "cell_type": "code",
   "execution_count": 23,
   "id": "49e0731d",
   "metadata": {},
   "outputs": [
    {
     "name": "stdout",
     "output_type": "stream",
     "text": [
      "              precision    recall  f1-score   support\n",
      "\n",
      "           0       0.91      0.90      0.91       114\n",
      "           1       0.82      0.81      0.81       152\n",
      "           2       0.97      0.63      0.77       139\n",
      "           3       0.76      0.80      0.78       152\n",
      "           4       0.88      0.89      0.89       138\n",
      "           5       0.74      0.96      0.84       153\n",
      "           6       0.89      0.63      0.74       147\n",
      "           7       0.94      0.88      0.91       137\n",
      "           8       0.98      0.95      0.97       131\n",
      "           9       0.96      0.95      0.96       135\n",
      "          10       0.95      0.98      0.96       136\n",
      "          11       0.82      1.00      0.90       145\n",
      "          12       0.89      0.81      0.85       157\n",
      "          13       0.97      0.97      0.97       151\n",
      "          14       0.93      0.95      0.94       155\n",
      "          15       0.84      0.96      0.89       159\n",
      "          16       0.85      0.97      0.91       140\n",
      "          17       0.89      0.97      0.93       149\n",
      "          18       0.83      0.90      0.86       138\n",
      "          19       0.93      0.55      0.70       101\n",
      "\n",
      "    accuracy                           0.88      2829\n",
      "   macro avg       0.89      0.87      0.87      2829\n",
      "weighted avg       0.88      0.88      0.87      2829\n",
      "\n",
      "[[103   0   0   0   0   0   0   0   0   0   0   0   0   0   0   5   0   3\n",
      "    0   3]\n",
      " [  0 123   1   6   1  12   1   0   0   0   0   6   0   0   1   0   0   0\n",
      "    1   0]\n",
      " [  0   3  88  13   1  28   0   1   0   0   0   5   0   0   0   0   0   0\n",
      "    0   0]\n",
      " [  0   6   2 121   6   5   3   0   0   0   0   6   2   0   0   0   0   1\n",
      "    0   0]\n",
      " [  0   1   0   3 123   1   4   1   0   0   0   2   0   1   0   0   0   1\n",
      "    1   0]\n",
      " [  0   2   0   0   1 147   0   0   1   0   0   0   0   1   0   0   0   0\n",
      "    1   0]\n",
      " [  0   3   0   8   4   2  93   3   1   2   4   5  10   1   1   0   3   2\n",
      "    5   0]\n",
      " [  0   0   0   0   0   0   2 120   1   1   1   0   3   0   2   0   2   1\n",
      "    4   0]\n",
      " [  0   0   0   0   0   0   2   0 125   0   0   0   0   0   0   0   4   0\n",
      "    0   0]\n",
      " [  0   1   0   0   0   0   0   0   0 128   1   0   0   1   0   1   1   0\n",
      "    2   0]\n",
      " [  0   0   0   0   0   0   0   1   0   0 133   0   0   0   1   0   0   1\n",
      "    0   0]\n",
      " [  0   0   0   0   0   0   0   0   0   0   0 145   0   0   0   0   0   0\n",
      "    0   0]\n",
      " [  0   5   0   9   3   3   0   2   0   0   0   5 127   0   1   0   1   0\n",
      "    1   0]\n",
      " [  0   0   0   0   0   0   0   0   0   0   0   0   0 147   3   0   0   0\n",
      "    1   0]\n",
      " [  0   3   0   0   0   0   0   0   0   0   0   1   0   0 148   0   1   1\n",
      "    1   0]\n",
      " [  0   1   0   0   0   1   0   0   0   0   0   0   0   0   0 152   1   2\n",
      "    2   0]\n",
      " [  0   0   0   0   0   0   0   0   0   0   0   1   0   0   0   0 136   0\n",
      "    3   0]\n",
      " [  1   0   0   0   0   0   0   0   0   0   0   0   0   0   0   2   0 145\n",
      "    1   0]\n",
      " [  0   1   0   0   0   0   0   0   0   2   1   1   0   0   0   0   6   2\n",
      "  124   1]\n",
      " [  9   1   0   0   0   0   0   0   0   0   0   0   0   0   2  21   5   4\n",
      "    3  56]]\n"
     ]
    }
   ],
   "source": [
    "# printing confusion and classification matrix \n",
    "from sklearn.metrics import classification_report,confusion_matrix\n",
    "print(classification_report(y_test,y_pred))\n",
    "print(confusion_matrix(y_test,y_pred))\n"
   ]
  },
  {
   "cell_type": "markdown",
   "id": "fd7792ed",
   "metadata": {},
   "source": [
    "# Conclusion\n",
    "Comparing the accuracy in both the cases i.e inbuilt multinomial and our own naive bayes algorithm,the accuracy comes out to be nearly equal nearly 86% .We can achieve a better accuracy by working on selection features,the accuracy can be upto 90% max by increasing the number of features in the 13th cell to 50,000.We also observe that increasing the number of features will decrease the accuracy."
   ]
  },
  {
   "cell_type": "code",
   "execution_count": null,
   "id": "dd4402c0",
   "metadata": {},
   "outputs": [],
   "source": []
  }
 ],
 "metadata": {
  "kernelspec": {
   "display_name": "Python 3 (ipykernel)",
   "language": "python",
   "name": "python3"
  },
  "language_info": {
   "codemirror_mode": {
    "name": "ipython",
    "version": 3
   },
   "file_extension": ".py",
   "mimetype": "text/x-python",
   "name": "python",
   "nbconvert_exporter": "python",
   "pygments_lexer": "ipython3",
   "version": "3.10.9"
  }
 },
 "nbformat": 4,
 "nbformat_minor": 5
}
